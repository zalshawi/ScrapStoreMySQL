{
 "cells": [
  {
   "cell_type": "markdown",
   "metadata": {},
   "source": [
    "# Scrape cases into MySQL DB\n",
    "\n",
    "### Objective:\n",
    "The goal for this task is to extract data (eg. text, HTML, links, attributes) of legal cases in webpage. After that, store it into a MySQL database.\n",
    "\n",
    "### Task explaination\n",
    "Visited https://www.cases.sheriahub.com/ to extract the following\n",
    "\n",
    "- Ten cases listed.\n",
    "- Extract case details.{eg. metadata, casetext}\n",
    "- Store details into a database.\n",
    "\n",
    "\n",
    "The database is a mysql database and the database table is has the following rows:\n",
    "1. id – int - This is autoincrement so you will not insert anything.\n",
    "2. case_title – varchar\n",
    "3. metadata – json\n",
    "4. case_judgement_html – MEDIUMTEXT\n",
    "5. case_judgement_text– MEDIUMTEXT\n",
    "6. pdf – LONGBLOB\n",
    "7. date - datetime\n",
    "\n",
    "In the case_title column, you will insert the case title (eg Muiruri Wanyoike v Utatuzi Center LLP & 20 others). In the metadata column, you will extract all the relevant metadata  (eg case number, parties, case class, judges, case court, etc) create a json and then insert the json. Eg\n",
    "{\n",
    "   \"case_number\":\"Civil Appeal E036 of 2021\",\n",
    "   \"parties\":\"Noor & another v Bank of Africa Limited & 2 others\",\n",
    "   \"case_class\":\"civil\",\n",
    "   \"judges\":\"A Mabeya\"\n",
    "}.\n",
    "The case_judgement_html column will be the case judgement and will have the case judgement section as is including html. The case_judgement_text is the case judgement section without any html markup, you will strip any HTML tags from the text for this. You will download and upload the case pdf as a blob to the pdf section. Finally, date will be the datetime of insertion.\n",
    "\n",
    "(Please note that in the future we will NOT be placing files into the database but this is for learning purposes only. Future files will be stored in cloud specifically AWS S3 buckets. Please research how to work with that in preparation for future work)."
   ]
  },
  {
   "cell_type": "markdown",
   "metadata": {},
   "source": [
    "## Data Extraction"
   ]
  },
  {
   "cell_type": "code",
   "execution_count": 1,
   "metadata": {
    "scrolled": true
   },
   "outputs": [],
   "source": [
    "# load libraries\n",
    "from urllib.request import urlopen as uReq;\n",
    "from bs4 import BeautifulSoup as soup;\n",
    "import json\n",
    "import datetime\n",
    "\n",
    "# page intrested to script\n",
    "my_url = 'https://www.cases.sheriahub.com/'\n",
    "# open connection and grab the page\n",
    "uClient = uReq(my_url)\n",
    "page_html = uClient.read()\n",
    "uClient.close()\n",
    "\n",
    "# html parsing\n",
    "page_soup = soup(page_html, \"html.parser\")\n",
    "\n",
    "# grap all case\n",
    "case_html = page_soup.findAll(\"div\",{\"class\":\"posttext pull-left\"})\n",
    "pdfs = page_soup.findAll(\"a\",{\"class\":\"btn btn-primary pull-right\"})\n",
    "\n",
    "#defined lists\n",
    "case_titles= []\n",
    "caseSub = [] #(eg. case/ede055b115)\n",
    "pdf = []\n",
    "dateList = []\n",
    "case_judgement_html_List = [] \n",
    "case_judgement_text_List = [] \n",
    "metadataJsonList = []\n",
    "\n",
    "# grap titles,pdfs,casesub\n",
    "i = 0\n",
    "while i<len(case_html):\n",
    "    abc1 = case_html[i].a.text.strip()\n",
    "    case_titles.append(abc1)\n",
    "    abc2 = pdfs[i][\"href\"]\n",
    "    pdf.append(abc2)\n",
    "    abc3 = case_html[i].a[\"href\"]\n",
    "    caseSub.append(abc3)\n",
    "    i+=1\n",
    "\n",
    "# Grap Metadata,judgement HTML & text\n",
    "for i in range(len(case_titles)):\n",
    "\n",
    "    caseTableAtt = [] # list for columns of metadata table, clear the list\n",
    "    caseTableValue = []# list for value of metadata table, clear the list\n",
    "    metadatas = [] # list of metadata, clear the list\n",
    "    metadata_json = '' # clear the variable\n",
    "    \n",
    "    \n",
    "    # To get metadata inside the case\n",
    "    url = str(my_url + caseSub[i])\n",
    "    uClient = uReq(url)\n",
    "    page_html = uClient.read()\n",
    "    uClient.close()\n",
    "\n",
    "    \n",
    "    # html parsing\n",
    "    page_soup = soup(page_html, \"html.parser\")\n",
    "    \n",
    "    # metadata\n",
    "    caseTables = page_soup.findAll(\"td\")\n",
    "    \n",
    "    # case_text\n",
    "    case_judgement_html = page_soup.find_all(\"span\")[2:]\n",
    "    case_judgement_html_List.append(case_judgement_html)\n",
    "    case_judgement_text = soup(str(case_judgement_html), 'lxml').get_text().strip()\n",
    "    case_judgement_text_List.append(case_judgement_text)\n",
    "    # get date of scraping\n",
    "    date = datetime.datetime.now()\n",
    "    date = date.strftime(\"%y-%m-%d %H.%M.%S\")\n",
    "    dateList.append(date)\n",
    "    \n",
    "    \n",
    "    j=0\n",
    "    while j<=21:# 21 is number of tr of caseTables, fixed becuase some cases also have tr in the text\n",
    "        \n",
    "        caseTableAtt.append(caseTables[j].text)\n",
    "        j+=1\n",
    "        caseTableValue.append(caseTables[j].text.replace(\"\\n\",\"\"))\n",
    "        j+=1\n",
    "        metadatas = dict(zip(caseTableAtt, caseTableValue))\n",
    "    metadataJsonList.append(json.dumps(metadatas))\n"
   ]
  },
  {
   "cell_type": "markdown",
   "metadata": {},
   "source": [
    "### Check stored data"
   ]
  },
  {
   "cell_type": "code",
   "execution_count": 2,
   "metadata": {},
   "outputs": [
    {
     "data": {
      "text/plain": [
       "['Criminal Appeal 72 of 2018 - Republic v John Macharia Ndungu Mwari',\n",
       " 'Criminal Appeal E026 of 2020 - Peter Gitonga Gituma v Republic',\n",
       " 'Tribunal Case 5 of 2020 & 4 of 2021 ( Kisumu) (Consolidated) - Jack Ogola Ogolla v George Onyango Nyamor',\n",
       " 'Environment and Land Court Suit 208 of 2014 - Daniel Nderitu Kagoko v Zuberi Mohammed Kombania, James Nyambane Masese, Brenda Bonarere Metobo, Registrar of Land, Kwale, Attorney General, Lawrence Kagoko Nderitu & Florence Nderitu',\n",
       " 'Criminal Case (Murder) E002 of 2021 - Republic v John Waweru Ndungu & John Gitau Muriithi',\n",
       " 'Criminal Appeal 19 of 2019 - Sammy Abiyo Jillo v Republic [2021] eKLR',\n",
       " 'Environment and Land Case 226 of 2010 - Chesterton Properties Ltd v Samson Muturia & others',\n",
       " 'Criminal Appeal 25 of 2019 - Abdi Aziz Maalim v Republic',\n",
       " 'Environment and Land Suit 157 of 2017 - Mombasa Cement Limited v Salim Masoud Abdalla, Khalfan Abdalla, Rashid Mohamed Salim, Ahmed Mohamed Suleiman & Salim Al-Amin Suleiman',\n",
       " 'Divorce Case  E030 of 2021 - FAY v HHS']"
      ]
     },
     "execution_count": 2,
     "metadata": {},
     "output_type": "execute_result"
    }
   ],
   "source": [
    "case_titles"
   ]
  },
  {
   "cell_type": "code",
   "execution_count": 3,
   "metadata": {},
   "outputs": [
    {
     "data": {
      "text/plain": [
       "['case/d067ee5634/',\n",
       " 'case/55f186cc62/',\n",
       " 'case/a51580652b/',\n",
       " 'case/964009c4bc/',\n",
       " 'case/335054fc9a/',\n",
       " 'case/adf78f8205/',\n",
       " 'case/bdb53b49f6/',\n",
       " 'case/7473bd06bf/',\n",
       " 'case/867b40962b/',\n",
       " 'case/fcf4524180/']"
      ]
     },
     "execution_count": 3,
     "metadata": {},
     "output_type": "execute_result"
    }
   ],
   "source": [
    "caseSub"
   ]
  },
  {
   "cell_type": "code",
   "execution_count": 4,
   "metadata": {},
   "outputs": [
    {
     "data": {
      "text/plain": [
       "['https://www.cases.sheriahub.com/resources/pdf/d067ee5634/',\n",
       " 'https://www.cases.sheriahub.com/resources/pdf/55f186cc62/',\n",
       " 'https://www.cases.sheriahub.com/resources/pdf/a51580652b/',\n",
       " 'https://www.cases.sheriahub.com/resources/pdf/964009c4bc/',\n",
       " 'https://www.cases.sheriahub.com/resources/pdf/335054fc9a/',\n",
       " 'https://www.cases.sheriahub.com/resources/pdf/adf78f8205/',\n",
       " 'https://www.cases.sheriahub.com/resources/pdf/bdb53b49f6/',\n",
       " 'https://www.cases.sheriahub.com/resources/pdf/7473bd06bf/',\n",
       " 'https://www.cases.sheriahub.com/resources/pdf/867b40962b/',\n",
       " 'https://www.cases.sheriahub.com/resources/pdf/fcf4524180/']"
      ]
     },
     "execution_count": 4,
     "metadata": {},
     "output_type": "execute_result"
    }
   ],
   "source": [
    "pdf"
   ]
  },
  {
   "cell_type": "code",
   "execution_count": 5,
   "metadata": {},
   "outputs": [
    {
     "data": {
      "text/plain": [
       "['21-09-23 01.20.21',\n",
       " '21-09-23 01.20.22',\n",
       " '21-09-23 01.20.23',\n",
       " '21-09-23 01.20.24',\n",
       " '21-09-23 01.20.25',\n",
       " '21-09-23 01.20.26',\n",
       " '21-09-23 01.20.27',\n",
       " '21-09-23 01.20.28',\n",
       " '21-09-23 01.20.29',\n",
       " '21-09-23 01.20.30']"
      ]
     },
     "execution_count": 5,
     "metadata": {},
     "output_type": "execute_result"
    }
   ],
   "source": [
    "dateList"
   ]
  },
  {
   "cell_type": "code",
   "execution_count": 6,
   "metadata": {},
   "outputs": [
    {
     "data": {
      "text/plain": [
       "'[REPUBLIC OF KENYA, REPUBLIC OF KENYA, \\xa0IN THE HIGH COURT OF KENYA , \\xa0IN THE HIGH COURT OF KENYA , AT NAIVASHA, AT NAIVASHA, \\xa0(CORAM: R. MWONGO, J), \\xa0(CORAM: R. MWONGO, J), CRIMINAL CASE (MURDER) NO. E002 OF 2021, CRIMINAL CASE (MURDER) NO. E002 OF 2021, REPUBLIC..........................................................................................PROSECUTION, REPUBLIC..........................................................................................PROSECUTION, VERSUS, VERSUS, JOHN WAWERU NDUNGU................................................................1ST ACCUSED, JOHN WAWERU NDUNGU................................................................1ST ACCUSED, JOHN GITAU MURIITHI.....................................................................2nd ACCUSED, JOHN GITAU MURIITHI.....................................................................2nd ACCUSED, RULING , RULING , 1.\\xa0 The 2nd Accused in this matter is jointly charged with the 1st Accused for the murder of Sarah Nafula Palanga on 9th December 2020. He, the 2nd Accused has applied for bail pending hearing., 1.\\xa0 The 2nd Accused in this matter is jointly charged with the 1st Accused for the murder of Sarah Nafula Palanga on 9th December 2020. He, the 2nd Accused has applied for bail pending hearing., 2.\\xa0 The applicant’s application is premised on the fact that: bail is a constitutional right only deniable for compelling reasons; he has been in custody now for 6 months, there is no cogent evidence that he is likely to interfere with witnesses; he has a family who are ready to stand surety for him; he is not a flight risk; and he has a known abode in Turasha Nyandarua County while the offence occurred in Gilgil in Naivasha., 2.\\xa0 The applicant’s application is premised on the fact that: bail is a constitutional right only deniable for compelling reasons; he has been in custody now for 6 months, there is no cogent evidence that he is likely to interfere with witnesses; he has a family who are ready to stand surety for him; he is not a flight risk; and he has a known abode in Turasha Nyandarua County while the offence occurred in Gilgil in Naivasha., 3.\\xa0 The Applicant urges that bond on stringent terms can be granted and that he will comply including reporting to the police station and offering surety of Shs 500,000/=., 3.\\xa0 The Applicant urges that bond on stringent terms can be granted and that he will comply including reporting to the police station and offering surety of Shs 500,000/=., 4.\\xa0 Bail is opposed by the State on the grounds that: the 2nd accused is likely to interfere or intimidate witnesses who are well known to him; that they live in the same area; that the murder was gruesome in that victim’s body parts were severed; and that the 2nd accused has no fixed abode., 4.\\xa0 Bail is opposed by the State on the grounds that: the 2nd accused is likely to interfere or intimidate witnesses who are well known to him; that they live in the same area; that the murder was gruesome in that victim’s body parts were severed; and that the 2nd accused has no fixed abode., 5.\\xa0 The State produced an Affidavit deponed by the Investigating Officer. It asserts, inter alia, that the accused are likely to interfere with witnesses since they live in rental houses where the suspects resided; that the accused knows most of the deceased’s family members and that the gravity of the offence and the fact that the 1st Accused’s/Respondent’s confession to the offence is intended to be used against him., 5.\\xa0 The State produced an Affidavit deponed by the Investigating Officer. It asserts, inter alia, that the accused are likely to interfere with witnesses since they live in rental houses where the suspects resided; that the accused knows most of the deceased’s family members and that the gravity of the offence and the fact that the 1st Accused’s/Respondent’s confession to the offence is intended to be used against him., 6. The DPP urged the court to consider the Bail and Bond Policy Guidelines, in particular, Clauses 2.2 (h), 3.1 (f) and 4.5 together with the Pre-Bail Report and the Investigating Officer’s affidavit before making its decision., 6. The DPP urged the court to consider the Bail and Bond Policy Guidelines, in particular, Clauses 2.2 (h), 3.1 (f) and 4.5 together with the Pre-Bail Report and the Investigating Officer’s affidavit before making its decision., 7.\\xa0 The court has considered the representations of counsel on both sides and the documents filed namely; the Investigating Officer’s Affidavit, the Pre-Bail Report and the Charge Sheet., 7.\\xa0 The court has considered the representations of counsel on both sides and the documents filed namely; the Investigating Officer’s Affidavit, the Pre-Bail Report and the Charge Sheet., 8.\\xa0 I, note, and it was pointed out by the defence counsel that the Investigating Officer’s Affidavit and Pre-Bail Report contradict each other as to whether the accused had a physical or permanent address. The Investigating Officer alludes to the absence of accused’s permanent address whilst the Pre-Bail Report shows that the accused has a permanent residence is Leleshwa Village, Turasha Sub-location where his family own land. On this issue, I accept the information in the Pre-Bail Report on this point., 8.\\xa0 I, note, and it was pointed out by the defence counsel that the Investigating Officer’s Affidavit and Pre-Bail Report contradict each other as to whether the accused had a physical or permanent address. The Investigating Officer alludes to the absence of accused’s permanent address whilst the Pre-Bail Report shows that the accused has a permanent residence is Leleshwa Village, Turasha Sub-location where his family own land. On this issue, I accept the information in the Pre-Bail Report on this point., 9.\\xa0\\xa0 On the question of interference with potential witnesses, I note that: it is asserted by the Investigating Officer that the witnesses are well known to the accused, which is confirmed in the Pre-Bail Report under the title Community’s Attitude towards the suspect. The community fear that the accused’s release would interfere with the case and their security could be at risk considering the seriousness of the offence faced by the accused., 9.\\xa0\\xa0 On the question of interference with potential witnesses, I note that: it is asserted by the Investigating Officer that the witnesses are well known to the accused, which is confirmed in the Pre-Bail Report under the title Community’s Attitude towards the suspect. The community fear that the accused’s release would interfere with the case and their security could be at risk considering the seriousness of the offence faced by the accused., 10.\\xa0 According to the Pre-Bail Report, the Victim’s family out-rightly rejected the idea of the accused being admitted on bond, expressing fear for their lives, as among them some are key witnesses. The report states the circumstances of the arrest and retrieval of the body of the deceased further causes the victims to fear for their lives., 10.\\xa0 According to the Pre-Bail Report, the Victim’s family out-rightly rejected the idea of the accused being admitted on bond, expressing fear for their lives, as among them some are key witnesses. The report states the circumstances of the arrest and retrieval of the body of the deceased further causes the victims to fear for their lives., 11.\\xa0\\xa0 In addition, I have considered the Bail and Bond Policy Guidelines. Clause 2.2 (h) provides as follows:, 11.\\xa0\\xa0 In addition, I have considered the Bail and Bond Policy Guidelines. Clause 2.2 (h) provides as follows:, “2.2 (h) \\xa0\\xa0 Safeguard the interests of victims of crimes in bail decision-making.”, “2.2 (h) \\xa0\\xa0 Safeguard the interests of victims of crimes in bail decision-making.”, 12.\\xa0\\xa0 Clause 3.1 (f) of the Bail and Bond Guidelines requires the court to consider the rights of victims and in particular that:, 12.\\xa0\\xa0 Clause 3.1 (f) of the Bail and Bond Guidelines requires the court to consider the rights of victims and in particular that:, -\\xa0\\xa0\\xa0 Victim’s views should be considered., -\\xa0\\xa0\\xa0 Victim’s views should be considered., -\\xa0\\xa0\\xa0 Safety of the victims should be considered., -\\xa0\\xa0\\xa0 Safety of the victims should be considered., -\\xa0\\xa0\\xa0 Victims should be informed about bail conditions especially those designed to protect victims., -\\xa0\\xa0\\xa0 Victims should be informed about bail conditions especially those designed to protect victims., 13.\\xa0\\xa0 Clause 4.9 (e) of the Bail and Bond Guidelines deals with “likelihood of interfering with Witnesses” and provides:, 13.\\xa0\\xa0 Clause 4.9 (e) of the Bail and Bond Guidelines deals with “likelihood of interfering with Witnesses” and provides:, “4.9(e) Likelihood of interfering with witnesses. Where there is a\\xa0 likelihood that the accused will interfere with prosecution\\xa0 witnesses if released on bail or bond, he or she may be denied\\xa0 bail or bond. However, bail or bond will only be denied if (i) there is strong evidence of the likelihood of interfering with prosecution witnesses, which is not rebutted, and (ii) the court cannot impose conditions to the bail or bond to prevent such\\xa0 interference. For example, where the accused person has been\\xa0 provided with witness statements, and therefore knows the identities of the prosecution witnesses and the nature of the\\xa0 evidence that these witnesses will adduce at trial, there is a real \\xa0 likelihood that the accused person may contact the witnesses.\\xa0 The likelihood that such an accused person may contact witnesses “could probably inflict genuine fear and anxiety in the potential prosecution witnesses,” and therefore constitutes a compelling reason for the denial of bail. In this regard, defilement \\xa0 cases present a special challenge. The country is not only experiencing an upsurge in defilement cases, but many such \\xa0 cases are compromised as soon as accused persons are\\xa0 released on bail. This happens because the families of the accused person and the victim usually negotiate to settle the\\xa0 cases out of court. Some courts are dealing with this challenge by denying accused persons bail until witnesses, especially the\\xa0 victim, have testified in such cases. The courts have adopted the\\xa0 same approach in murder cases, particularly where the witnesses \\xa0 are closely related to the accused person.”, “4.9(e) Likelihood of interfering with witnesses. Where there is a\\xa0 likelihood that the accused will interfere with prosecution\\xa0 witnesses if released on bail or bond, he or she may be denied\\xa0 bail or bond. However, bail or bond will only be denied if (i) there is strong evidence of the likelihood of interfering with prosecution witnesses, which is not rebutted, and (ii) the court cannot impose conditions to the bail or bond to prevent such\\xa0 interference. For example, where the accused person has been\\xa0 provided with witness statements, and therefore knows the identities of the prosecution witnesses and the nature of the\\xa0 evidence that these witnesses will adduce at trial, there is a real \\xa0 likelihood that the accused person may contact the witnesses.\\xa0 The likelihood that such an accused person may contact witnesses “could probably inflict genuine fear and anxiety in the potential prosecution witnesses,” and therefore constitutes a compelling reason for the denial of bail. In this regard, defilement \\xa0 cases present a special challenge. The country is not only experiencing an upsurge in defilement cases, but many such \\xa0 cases are compromised as soon as accused persons are\\xa0 released on bail. This happens because the families of the accused person and the victim usually negotiate to settle the\\xa0 cases out of court. Some courts are dealing with this challenge by denying accused persons bail until witnesses, especially the\\xa0 victim, have testified in such cases. The courts have adopted the\\xa0 same approach in murder cases, particularly where the witnesses \\xa0 are closely related to the accused person.”, 14.\\xa0 In this regard, it has been held that where there is “a real possibility of the accused making contact with potential witnesses if granted bail. That could probably inflict genuine fear and anxiety in the potential prosecution witnesses.” A finding on such contract or fear could form a compelling reason not to release the accused on bond. (See Republic v Joseph Wambua Mutunga & 3 Others [2010] eKLR)., 14.\\xa0 In this regard, it has been held that where there is “a real possibility of the accused making contact with potential witnesses if granted bail. That could probably inflict genuine fear and anxiety in the potential prosecution witnesses.” A finding on such contract or fear could form a compelling reason not to release the accused on bond. (See Republic v Joseph Wambua Mutunga & 3 Others [2010] eKLR)., 15.\\xa0 Similarly, in Republic v Lucy Njeri Waweru & 3 Others [2013] eKLR the court stated that it is “under obligation to do all in its power to preserve evidence in a case where there is danger of interference with witnesses or likelihood of destroying evidence.” There, the court declined to grant bail., 15.\\xa0 Similarly, in Republic v Lucy Njeri Waweru & 3 Others [2013] eKLR the court stated that it is “under obligation to do all in its power to preserve evidence in a case where there is danger of interference with witnesses or likelihood of destroying evidence.” There, the court declined to grant bail., 16.\\xa0 But equally critically, the court must also take into account the interests of victims who, like accused person, also have constitutional right of protection under Article 50 (9) of the Constitution. To this end the Bail & Bond Policy Guidelines seek to implement the Victim Protection Act No. 17 of 2014. Section 2 defines “ ‘Victims’ as any person who suffers injury loss or damage as a consequence of an offence.”, 16.\\xa0 But equally critically, the court must also take into account the interests of victims who, like accused person, also have constitutional right of protection under Article 50 (9) of the Constitution. To this end the Bail & Bond Policy Guidelines seek to implement the Victim Protection Act No. 17 of 2014. Section 2 defines “ ‘Victims’ as any person who suffers injury loss or damage as a consequence of an offence.”, 17.\\xa0\\xa0 Section 10 of the Victims Protection Act provides that:, 17.\\xa0\\xa0 Section 10 of the Victims Protection Act provides that:, “A victim has a right to—, “A victim has a right to—, (a) \\xa0\\xa0 be free from intimidation, harassment, fear, tampering, bribery, corruption and abuse;, (a) \\xa0\\xa0 be free from intimidation, harassment, fear, tampering, bribery, corruption and abuse;, (b) have their safety and that of their family considered in determining the conditions of bail and release of the offender; and, (b) have their safety and that of their family considered in determining the conditions of bail and release of the offender; and, (c) have their property protected.”, (c) have their property protected.”, 18.\\xa0\\xa0\\xa0 I have noted from the 2nd Accused’s Pre-Bail Report that the victims express fear for their lives as they are key witnesses, should the accused be released early before the hearing process has started., 18.\\xa0\\xa0\\xa0 I have noted from the 2nd Accused’s Pre-Bail Report that the victims express fear for their lives as they are key witnesses, should the accused be released early before the hearing process has started., Disposition, Disposition, 19.\\xa0\\xa0 Taking into account all the foregoing factors and the fact that counsel confirmed that the scene of the crime was Gilgil which counsel estimated to be a mere fifty kilometres away from the accused’s home in Turasha, it does not appear to me that I can issue bond terms that place plausible restrictions on the accused which would seriously deter his contact with the witnesses or victims. In addition, the defence made no request for the re-location of the accused to another area., 19.\\xa0\\xa0 Taking into account all the foregoing factors and the fact that counsel confirmed that the scene of the crime was Gilgil which counsel estimated to be a mere fifty kilometres away from the accused’s home in Turasha, it does not appear to me that I can issue bond terms that place plausible restrictions on the accused which would seriously deter his contact with the witnesses or victims. In addition, the defence made no request for the re-location of the accused to another area., 20.\\xa0 In the circumstances, including the fact that the Pre-Trial has not been held, I am of the view that this court should give opportunity so that it can hear from the victims in terms of Section 10 (1) (a) (b) and (c) of the Victim Protection Act before a determination is made on whether to grant bail and on what terms and conditions such bail should be granted, if granted., 20.\\xa0 In the circumstances, including the fact that the Pre-Trial has not been held, I am of the view that this court should give opportunity so that it can hear from the victims in terms of Section 10 (1) (a) (b) and (c) of the Victim Protection Act before a determination is made on whether to grant bail and on what terms and conditions such bail should be granted, if granted., 21.\\xa0 Accordingly, a hearing date shall be set within forty five (45) days when the hearing of the appropriate victims shall be conducted so as to enable them to state their safety and intimidation concerns as victims and potential witnesses. The same shall then be taken into account in determining the bail application herein., 21.\\xa0 Accordingly, a hearing date shall be set within forty five (45) days when the hearing of the appropriate victims shall be conducted so as to enable them to state their safety and intimidation concerns as victims and potential witnesses. The same shall then be taken into account in determining the bail application herein., Administrative directions, Administrative directions, 22.\\xa0 Due to the current inhibitions on movement nationally, and in keeping with social distancing requirements decreed by the state due to the Corona-virus pandemic, this Judgment has been rendered through Teams tele-conference with the consent of the parties noted hereunder, who were also able to participate in the conference. Accordingly, a signed copy of this judgment shall be scanned and availed to the parties and relevant authorities as evidence of the delivery thereof, with the High Court seal duly affixed thereon by the Executive Officer, Naivasha., 22.\\xa0 Due to the current inhibitions on movement nationally, and in keeping with social distancing requirements decreed by the state due to the Corona-virus pandemic, this Judgment has been rendered through Teams tele-conference with the consent of the parties noted hereunder, who were also able to participate in the conference. Accordingly, a signed copy of this judgment shall be scanned and availed to the parties and relevant authorities as evidence of the delivery thereof, with the High Court seal duly affixed thereon by the Executive Officer, Naivasha., 23.\\xa0 A printout of the parties’ written consent to the delivery of this judgment shall be retained as part of the record of the Court., 23.\\xa0 A printout of the parties’ written consent to the delivery of this judgment shall be retained as part of the record of the Court., 24.\\xa0 Orders accordingly., 24.\\xa0 Orders accordingly., Dated and Delivered in Naivasha by teleconference this 19th Day of July, 2021., Dated and Delivered in Naivasha by teleconference this 19th Day of July, 2021., R. MWONGO, R. MWONGO, JUDGE, JUDGE, Attendance list at video/teleconference:, Attendance list at video/teleconference:, 1.\\xa0\\xa0 Ms Maingi for the State, 1.\\xa0\\xa0 Ms Maingi for the State, 2.\\xa0\\xa0 Mr Wairegi for the 1st Accused, 2.\\xa0\\xa0 Mr Wairegi for the 1st Accused, 3.\\xa0\\xa0 Mr Owuor for the 2nd Accused, 3.\\xa0\\xa0 Mr Owuor for the 2nd Accused, 4.\\xa0\\xa0 John Waweru Ndungu - 1st Accused at Naivasha Medium Prison, 4.\\xa0\\xa0 John Waweru Ndungu - 1st Accused at Naivasha Medium Prison, 5.\\xa0\\xa0 John Gitau Muriithi - 2nd Accused at Naivasha Maximum Prison, 5.\\xa0\\xa0 John Gitau Muriithi - 2nd Accused at Naivasha Maximum Prison, 6.\\xa0\\xa0 Court Assistant - Quinter Ogutu, 6.\\xa0\\xa0 Court Assistant - Quinter Ogutu]'"
      ]
     },
     "execution_count": 6,
     "metadata": {},
     "output_type": "execute_result"
    }
   ],
   "source": [
    "case_judgement_text_List[4]"
   ]
  },
  {
   "cell_type": "code",
   "execution_count": 7,
   "metadata": {},
   "outputs": [
    {
     "data": {
      "text/plain": [
       "'{\"Case Number\": \"Criminal Case (Murder) E002 of 2021\", \"Parties\": \"Republic v John Waweru Ndungu & John Gitau Muriithi\", \"Case Class\": \"Criminal\", \"Judges\": \"Richard Mururu Mwongo \", \"Advocates\": \"Ms Maingi for the StateMr Wairegi for the 1st AccusedMr Owuor for the 2nd Accused John Waweru Ndungu - 1st Accused at Naivasha Medium PrisonJohn Gitau Muriithi - 2nd Accused at Naivasha Maximum Prison\", \"Case Action\": \"Ruling\", \"Case Outcome\": \"Matter fixed for hearing\", \"Date Delivered\": \"19 Jul 2021\", \"Court County\": \"Nakuru\", \"Case Court\": \"High Court at Naivasha\", \"Court Division\": \"Criminal\"}'"
      ]
     },
     "execution_count": 7,
     "metadata": {},
     "output_type": "execute_result"
    }
   ],
   "source": [
    "metadataJsonList[4]"
   ]
  },
  {
   "cell_type": "markdown",
   "metadata": {},
   "source": [
    "## Connect to mySQL DB\n",
    "Trying to connect to mysql DB and save data their"
   ]
  },
  {
   "cell_type": "code",
   "execution_count": 8,
   "metadata": {
    "scrolled": true
   },
   "outputs": [],
   "source": [
    "import mysql.connector\n",
    "\n",
    "db = mysql.connector.connect(host= ,\n",
    "                                         database=,\n",
    "                                         user=,\n",
    "                                         password=)\n"
   ]
  },
  {
   "cell_type": "code",
   "execution_count": 9,
   "metadata": {
    "scrolled": true
   },
   "outputs": [
    {
     "name": "stdout",
     "output_type": "stream",
     "text": [
      "('id', 'int(11)', 'NO', 'PRI', None, 'auto_increment')\n",
      "('case_title', 'varchar(225)', 'NO', '', None, '')\n",
      "('metadata', 'json', 'NO', '', None, '')\n",
      "('case_judgement_html', 'mediumtext', 'NO', '', None, '')\n",
      "('case_judgement_text', 'mediumtext', 'NO', '', None, '')\n",
      "('pdf', 'blob', 'NO', '', None, '')\n",
      "('date', 'datetime', 'NO', '', None, '')\n"
     ]
    }
   ],
   "source": [
    "mycursor = db.cursor()\n",
    "mycursor.execute(\"DESCRIBE ziyad_alshawi\")\n",
    "for x in mycursor:\n",
    "    print(x)"
   ]
  },
  {
   "cell_type": "code",
   "execution_count": 10,
   "metadata": {
    "scrolled": true
   },
   "outputs": [],
   "source": [
    "# insert into the database\n",
    "for i in range(10):\n",
    "    query = '''INSERT INTO `ziyad_alshawi` (`case_title`,`metadata`,`case_judgement_html`,`case_judgement_text`,`pdf`,`date`) VALUES ('{}','{}',\"{}\",\"{}\",\"{}\",\"{}\")'''.format(case_titles[i],metadataJsonList[i] ,case_judgement_html_List[i],case_judgement_text_List[i],pdf[i],dateList[i])\n",
    "    mycursor.execute(query)\n",
    "    db.commit()"
   ]
  },
  {
   "cell_type": "markdown",
   "metadata": {},
   "source": [
    "# Lesson Learned\n",
    "- Data extraction is powerful tool to have as a data scientist.\n",
    "- In DB records/rows need to enter in one query.\n",
    "- In DB IDs usualy set on auto-increment to clear that need to use `truncate table table_name;` in MySQL Console.\n",
    "- When extrate from text may encounter with `\\n` inside the text which means in MySQL  ASCII 0x10 (newline) doesn't mean `\\` + `n` expression. [source](https://stackoverflow.com/questions/47504402/mysql-invalid-json-text-invalid-escape-character-in-string)"
   ]
  }
 ],
 "metadata": {
  "kernelspec": {
   "display_name": "Python 3",
   "language": "python",
   "name": "python3"
  },
  "language_info": {
   "codemirror_mode": {
    "name": "ipython",
    "version": 3
   },
   "file_extension": ".py",
   "mimetype": "text/x-python",
   "name": "python",
   "nbconvert_exporter": "python",
   "pygments_lexer": "ipython3",
   "version": "3.7.7"
  }
 },
 "nbformat": 4,
 "nbformat_minor": 5
}
