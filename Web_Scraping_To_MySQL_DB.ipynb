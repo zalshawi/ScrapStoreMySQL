{
 "cells": [
  {
   "cell_type": "markdown",
   "id": "f03ddb47",
   "metadata": {},
   "source": [
    "# Scrape cases To MySQL DB\n",
    "Web-scraping is a way to generate dataset from websites. This notebook is a walkthrough for:\n",
    "1. Scraping from legal cases of kenya from https://www.cases.sheriahub.com/ke/\n",
    "2. Store scraped data into MySQL DB.\n",
    "\n",
    "**Tools:** BeautifulSoup, requests"
   ]
  },
  {
   "cell_type": "markdown",
   "id": "22a8fdfb",
   "metadata": {},
   "source": [
    "# Get links from the main page"
   ]
  },
  {
   "cell_type": "code",
   "execution_count": 14,
   "id": "2c9cc9f2",
   "metadata": {},
   "outputs": [],
   "source": [
    "import requests\n",
    "from bs4 import BeautifulSoup as soup\n",
    "import datetime\n",
    "import random"
   ]
  },
  {
   "cell_type": "code",
   "execution_count": 15,
   "id": "955297b0",
   "metadata": {},
   "outputs": [],
   "source": [
    "def getPage(url):\n",
    "    page = requests.get(url)\n",
    "    soup = BeautifulSoup(page.content, 'html.parser')\n",
    "    return soup"
   ]
  },
  {
   "cell_type": "code",
   "execution_count": 16,
   "id": "62356cfb",
   "metadata": {},
   "outputs": [],
   "source": [
    "# page intrested to script\n",
    "website = 'https://www.cases.sheriahub.com/ke/'\n",
    "\n",
    "# html parsing\n",
    "soup = getPage(website)\n",
    "\n",
    "# grap all case\n",
    "case_html = soup.findAll(\"div\",{\"class\":\"posttext pull-left\"})\n",
    "pdfs = soup.findAll(\"a\",{\"class\":\"btn btn-primary pull-right\"})"
   ]
  },
  {
   "cell_type": "code",
   "execution_count": 28,
   "id": "40e18c8a",
   "metadata": {},
   "outputs": [],
   "source": [
    "# List of variables\n",
    "case_titles = []\n",
    "case_urls = []\n",
    "case_pdfs = []\n",
    "\n",
    "for url in range(len(case_html)):\n",
    "    case_titles.append(case_html[url].a.text.strip())\n",
    "    case_urls.append('https://www.cases.sheriahub.com/'+case_html[i].a[\"href\"])\n",
    "    case_pdfs.append('https://www.cases.sheriahub.com/'+pdfs[i][\"href\"])"
   ]
  },
  {
   "cell_type": "code",
   "execution_count": 30,
   "id": "bca3154d",
   "metadata": {},
   "outputs": [],
   "source": [
    "#### save to txt\n",
    "# write caselinks in text file, line by line\n",
    "with open('case_urls.txt','w') as the_file:\n",
    "    for case in range(len(case_urls)):  \n",
    "        the_file.write(case_urls[case]+'\\n')"
   ]
  },
  {
   "cell_type": "code",
   "execution_count": 29,
   "id": "9d37a652",
   "metadata": {
    "scrolled": true
   },
   "outputs": [
    {
     "data": {
      "text/plain": [
       "['https://www.cases.sheriahub.com/case/11f09f49134e61d1a4aa1c44457c1b/',\n",
       " 'https://www.cases.sheriahub.com/case/11f09f49134e61d1a4aa1c44457c1b/',\n",
       " 'https://www.cases.sheriahub.com/case/11f09f49134e61d1a4aa1c44457c1b/',\n",
       " 'https://www.cases.sheriahub.com/case/11f09f49134e61d1a4aa1c44457c1b/',\n",
       " 'https://www.cases.sheriahub.com/case/11f09f49134e61d1a4aa1c44457c1b/',\n",
       " 'https://www.cases.sheriahub.com/case/11f09f49134e61d1a4aa1c44457c1b/',\n",
       " 'https://www.cases.sheriahub.com/case/11f09f49134e61d1a4aa1c44457c1b/',\n",
       " 'https://www.cases.sheriahub.com/case/11f09f49134e61d1a4aa1c44457c1b/',\n",
       " 'https://www.cases.sheriahub.com/case/11f09f49134e61d1a4aa1c44457c1b/',\n",
       " 'https://www.cases.sheriahub.com/case/11f09f49134e61d1a4aa1c44457c1b/']"
      ]
     },
     "execution_count": 29,
     "metadata": {},
     "output_type": "execute_result"
    }
   ],
   "source": [
    "# check scraped urls\n",
    "case_urls"
   ]
  },
  {
   "cell_type": "markdown",
   "id": "adeeb1e7",
   "metadata": {},
   "source": [
    "# Get case info"
   ]
  },
  {
   "cell_type": "code",
   "execution_count": 90,
   "id": "cbcd653c",
   "metadata": {},
   "outputs": [],
   "source": [
    "pause_time = 5 # Websites have a capacity to handle requests, making some delayes would help the website not to crash\n",
    "for url in range(len(case_urls)):\n",
    "    caseTableAtt = [] # list for columns of metadata table, clear the list\n",
    "    caseTableValue = []# list for value of metadata table, clear the list\n",
    "    metadatas = [] # list of metadata, clear the list\n",
    "    case_judgement_html_List = []\n",
    "    case_judgement_text_List = []\n",
    "    # To get metadata inside the case\n",
    "    soup = getPage(case_urls[url])\n",
    "        \n",
    "    # case_text\n",
    "    case_judgement_html_List.append(soup.find(\"div\",{\"style\":\"text-align:justify;text-justify:inter-word;border-top:solid px #f1f1f1;padding-top:1em;margin-top:1em\"}))\n",
    "    case_judgement_text_List.append(case_judgement_html.get_text().strip())\n",
    "    \n",
    "    # get date of scraping\n",
    "    date = datetime.datetime.now()\n",
    "    date = date.strftime(\"%y-%m-%d %H.%M.%S\")\n",
    "    dateList.append(date)\n",
    "    \n",
    "    \n",
    "    # To extract data from table (e.g. metadata)\n",
    "    caseTables = soup.findAll(\"td\")\n",
    "    j=0\n",
    "    while j<22:# 22 is number of tr of caseTables, fixed becuase some cases also have tr in the text\n",
    "        caseTableAtt.append(caseTables[j].text)\n",
    "        j+=1\n",
    "        caseTableValue.append(caseTables[j].text.replace(\"\\n\",\"\"))\n",
    "        j+=1\n",
    "        metadatas = dict(zip(caseTableAtt, caseTableValue))\n",
    "    metadataJsonList.append(json.dumps(metadatas))\n",
    "    time.sleep(pause_time)"
   ]
  },
  {
   "cell_type": "markdown",
   "id": "62c65071",
   "metadata": {},
   "source": [
    "### Check stored data"
   ]
  },
  {
   "cell_type": "code",
   "execution_count": 91,
   "id": "b8009755",
   "metadata": {},
   "outputs": [
    {
     "data": {
      "text/plain": [
       "'Miscellaneous Criminal Application E149 of 2021 - Omari Mwinyi Mwapita v Republic'"
      ]
     },
     "execution_count": 91,
     "metadata": {},
     "output_type": "execute_result"
    }
   ],
   "source": [
    "case_titles[0]"
   ]
  },
  {
   "cell_type": "code",
   "execution_count": 92,
   "id": "60aa65f0",
   "metadata": {
    "scrolled": true
   },
   "outputs": [
    {
     "data": {
      "text/plain": [
       "'{\"Case Number\": \"Miscellaneous Criminal Application E149 of 2021\", \"Parties\": \"Omari Mwinyi Mwapita v Republic\", \"Case Class\": \"Criminal\", \"Judges\": \"Grace Lidembu Nzioka \", \"Advocates\": \"Mr. Kagoi for the applicantMs. Akunja for the Respondent.\", \"Case Action\": \"Ruling\", \"Case Outcome\": \"Application dismissed\", \"Date Delivered\": \"30 Dec 2021\", \"Court County\": \"Nairobi\", \"Case Court\": \"High Court at Nairobi (Milimani Law Courts)\", \"Court Division\": \"Criminal\"}'"
      ]
     },
     "execution_count": 92,
     "metadata": {},
     "output_type": "execute_result"
    }
   ],
   "source": [
    "metadataJsonList[0]"
   ]
  },
  {
   "cell_type": "code",
   "execution_count": 93,
   "id": "67928c68",
   "metadata": {},
   "outputs": [
    {
     "data": {
      "text/plain": [
       "'REPUBLIC OF KENYAIN THE HIGH COURT OF KENYA AT NAIROBIHIGH COURT MISCELLANEOUS CRIMINAL APPLICATION '"
      ]
     },
     "execution_count": 93,
     "metadata": {},
     "output_type": "execute_result"
    }
   ],
   "source": [
    "case_judgement_text_List[0][:100]"
   ]
  },
  {
   "cell_type": "markdown",
   "id": "bfcd519a",
   "metadata": {},
   "source": [
    "Data has been successfully been scraped!"
   ]
  },
  {
   "cell_type": "markdown",
   "id": "bd948e98",
   "metadata": {},
   "source": [
    "# Store to DB\n",
    "\n",
    "The database already been created and has a table with the following rows:\n",
    "1. id – int - This is autoincrement so you will not insert anything.\n",
    "2. case_title – varchar\n",
    "3. metadata – json\n",
    "4. case_judgement_html – MEDIUMTEXT\n",
    "5. case_judgement_text– MEDIUMTEXT\n",
    "6. pdf – LONGBLOB\n",
    "7. date - datetime\n"
   ]
  },
  {
   "cell_type": "markdown",
   "id": "b534702f",
   "metadata": {},
   "source": [
    "## Connect to mySQL DB\n",
    "Trying to connect to MySQL DB and save data their"
   ]
  },
  {
   "cell_type": "code",
   "execution_count": 8,
   "id": "bd909480",
   "metadata": {
    "scrolled": true
   },
   "outputs": [],
   "source": [
    "import mysql.connector\n",
    "\n",
    "db = mysql.connector.connect(host= x ,\n",
    "                                         database=x,\n",
    "                                         user=x,\n",
    "                                         password=x)\n"
   ]
  },
  {
   "cell_type": "code",
   "execution_count": 9,
   "id": "7a4d361d",
   "metadata": {
    "scrolled": true
   },
   "outputs": [
    {
     "name": "stdout",
     "output_type": "stream",
     "text": [
      "('id', 'int(11)', 'NO', 'PRI', None, 'auto_increment')\n",
      "('case_title', 'varchar(225)', 'NO', '', None, '')\n",
      "('metadata', 'json', 'NO', '', None, '')\n",
      "('case_judgement_html', 'mediumtext', 'NO', '', None, '')\n",
      "('case_judgement_text', 'mediumtext', 'NO', '', None, '')\n",
      "('pdf', 'blob', 'NO', '', None, '')\n",
      "('date', 'datetime', 'NO', '', None, '')\n"
     ]
    }
   ],
   "source": [
    "mycursor = db.cursor()\n",
    "mycursor.execute(\"DESCRIBE ziyad_alshawi\")\n",
    "for x in mycursor:\n",
    "    print(x)"
   ]
  },
  {
   "cell_type": "code",
   "execution_count": 10,
   "id": "15ab790a",
   "metadata": {
    "scrolled": true
   },
   "outputs": [],
   "source": [
    "# insert into the database\n",
    "for i in range(10):\n",
    "    query = '''INSERT INTO `ziyad_alshawi` (`case_title`,`metadata`,`case_judgement_html`,`case_judgement_text`,`pdf`,`date`) VALUES ('{}','{}',\"{}\",\"{}\",\"{}\",\"{}\")'''.format(case_titles[i],metadataJsonList[i] ,case_judgement_html_List[i],case_judgement_text_List[i],pdf[i],dateList[i])\n",
    "    mycursor.execute(query)\n",
    "    db.commit()"
   ]
  },
  {
   "cell_type": "markdown",
   "id": "5e4e79fa",
   "metadata": {},
   "source": [
    "# Lesson Learned\n",
    "- Data extraction is a powerful tool to have as a data scientist.\n",
    "- In DB records/rows need to enter in one query.\n",
    "- In DB IDs usualy set on auto-increment to clear that need to use `truncate table table_name;` in MySQL Console.\n",
    "- When extrate from text may encounter with `\\n` inside the text which means in MySQL  ASCII 0x10 (newline) doesn't mean `\\` + `n` expression. [source](https://stackoverflow.com/questions/47504402/mysql-invalid-json-text-invalid-escape-character-in-string)"
   ]
  }
 ],
 "metadata": {
  "kernelspec": {
   "display_name": "Python 3 (ipykernel)",
   "language": "python",
   "name": "python3"
  },
  "language_info": {
   "codemirror_mode": {
    "name": "ipython",
    "version": 3
   },
   "file_extension": ".py",
   "mimetype": "text/x-python",
   "name": "python",
   "nbconvert_exporter": "python",
   "pygments_lexer": "ipython3",
   "version": "3.9.7"
  }
 },
 "nbformat": 4,
 "nbformat_minor": 5
}
